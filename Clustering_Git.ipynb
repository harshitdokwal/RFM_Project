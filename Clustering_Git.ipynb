{
 "cells": [
  {
   "cell_type": "code",
   "execution_count": null,
   "id": "6c581107-3cf9-4192-b59d-df090aa38a13",
   "metadata": {
    "id": "6c581107-3cf9-4192-b59d-df090aa38a13"
   },
   "outputs": [],
   "source": [
    "import os\n",
    "import numpy as np\n",
    "import pandas as pd\n",
    "import matplotlib.pyplot as plt\n",
    "import seaborn as sns\n",
    "from sklearn.datasets import make_blobs\n",
    "from sklearn.cluster import KMeans"
   ]
  },
  {
   "cell_type": "markdown",
   "id": "99fa8e74-d3d9-465e-a9e7-87487cdc1fd9",
   "metadata": {
    "id": "99fa8e74-d3d9-465e-a9e7-87487cdc1fd9"
   },
   "source": [
    "# E-Commerce Data \n",
    "## Task : to make cluster basis RMF approach"
   ]
  },
  {
   "cell_type": "code",
   "execution_count": null,
   "id": "1ae75826-a921-42ed-801d-e40ac4060681",
   "metadata": {},
   "outputs": [],
   "source": [
    "df = pd.read_csv(r\"data.csv\")"
   ]
  },
  {
   "cell_type": "markdown",
   "id": "a11359dc-9bc2-4abd-96a4-3c61da34adc4",
   "metadata": {},
   "source": [
    "### Data Preprocessing\n",
    "1. Handle missing and duplicate values.\n",
    "2. Convert date and time columns to appropriate formats.\n",
    "3. Aggregate data to calculate RFM metrics per customer."
   ]
  },
  {
   "cell_type": "code",
   "execution_count": null,
   "id": "00fa75a0-9ad5-41f5-907c-751c1573693e",
   "metadata": {
    "id": "00fa75a0-9ad5-41f5-907c-751c1573693e",
    "outputId": "308b7aa4-49cd-4339-ad1c-588844e3add7"
   },
   "outputs": [
    {
     "data": {
      "text/plain": [
       "3145"
      ]
     },
     "execution_count": 7,
     "metadata": {},
     "output_type": "execute_result"
    }
   ],
   "source": [
    "# check duplicate data\n",
    "df.duplicated().sum()"
   ]
  },
  {
   "cell_type": "code",
   "execution_count": null,
   "id": "e948478f-06b3-49a9-9795-8131f6f5a707",
   "metadata": {
    "id": "e948478f-06b3-49a9-9795-8131f6f5a707",
    "outputId": "d53b0d1f-1c1a-45ee-9053-01f47f9ac35c"
   },
   "outputs": [
    {
     "data": {
      "text/plain": [
       "(541116, 12)"
      ]
     },
     "execution_count": 79,
     "metadata": {},
     "output_type": "execute_result"
    }
   ],
   "source": [
    "df.shape"
   ]
  },
  {
   "cell_type": "code",
   "execution_count": null,
   "id": "f088fa0c-3cbe-4af4-bdb8-8c6843e659e0",
   "metadata": {
    "id": "f088fa0c-3cbe-4af4-bdb8-8c6843e659e0",
    "outputId": "323b4dd0-a477-4f93-f4f5-6cb5fb6542c0"
   },
   "outputs": [
    {
     "data": {
      "text/plain": [
       "(537971, 12)"
      ]
     },
     "execution_count": 9,
     "metadata": {},
     "output_type": "execute_result"
    }
   ],
   "source": [
    "df = df.drop_duplicates(ignore_index=True)\n",
    "df.shape"
   ]
  },
  {
   "cell_type": "code",
   "execution_count": null,
   "id": "eba985e8-9426-4fa5-a364-682cf3d13287",
   "metadata": {
    "id": "eba985e8-9426-4fa5-a364-682cf3d13287",
    "outputId": "8c49a3ed-06e4-4338-a46f-4e3bd0a3cec7"
   },
   "outputs": [
    {
     "data": {
      "text/plain": [
       "0"
      ]
     },
     "execution_count": 83,
     "metadata": {},
     "output_type": "execute_result"
    }
   ],
   "source": [
    "df.duplicated().sum()"
   ]
  },
  {
   "cell_type": "code",
   "execution_count": null,
   "id": "b3d5efb9-652f-471d-8f2b-696539994199",
   "metadata": {
    "id": "b3d5efb9-652f-471d-8f2b-696539994199",
    "outputId": "576f2315-f3ec-448b-836d-057161a77c49"
   },
   "outputs": [
    {
     "data": {
      "text/plain": [
       "CustomerID            24.869370\n",
       "Item Code              0.000186\n",
       "InvoieNo               0.000186\n",
       "Date of purchase       0.000186\n",
       "Quantity               0.000186\n",
       "Time                   0.000186\n",
       "price per Unit         0.000186\n",
       "Price                  0.000186\n",
       "Shipping Location      0.000186\n",
       "Cancelled_status      98.448801\n",
       "Reason of return      99.999442\n",
       "Sold as set          100.000000\n",
       "dtype: float64"
      ]
     },
     "execution_count": 11,
     "metadata": {},
     "output_type": "execute_result"
    }
   ],
   "source": [
    "df.isnull().sum()/len(df)*100"
   ]
  },
  {
   "cell_type": "code",
   "execution_count": null,
   "id": "45f6c308-f8cb-436e-a1ee-fc4bdf1cc2d2",
   "metadata": {
    "id": "45f6c308-f8cb-436e-a1ee-fc4bdf1cc2d2",
    "outputId": "39afc63d-af34-4f79-9943-574d53f7cf0a"
   },
   "outputs": [
    {
     "data": {
      "text/plain": [
       "Index(['CustomerID', 'Item Code', 'InvoieNo', 'Date of purchase', 'Quantity',\n",
       "       'Time', 'price per Unit', 'Price', 'Shipping Location',\n",
       "       'Cancelled_status', 'Reason of return', 'Sold as set'],\n",
       "      dtype='object')"
      ]
     },
     "execution_count": 87,
     "metadata": {},
     "output_type": "execute_result"
    }
   ],
   "source": [
    "df.columns"
   ]
  },
  {
   "cell_type": "code",
   "execution_count": null,
   "id": "db47b125-eab2-4d92-9c76-ef19fafd7c97",
   "metadata": {
    "id": "db47b125-eab2-4d92-9c76-ef19fafd7c97",
    "outputId": "69e3fa1d-5b62-4572-a071-8cf64e209b69"
   },
   "outputs": [
    {
     "data": {
      "text/html": [
       "<div>\n",
       "<style scoped>\n",
       "    .dataframe tbody tr th:only-of-type {\n",
       "        vertical-align: middle;\n",
       "    }\n",
       "\n",
       "    .dataframe tbody tr th {\n",
       "        vertical-align: top;\n",
       "    }\n",
       "\n",
       "    .dataframe thead th {\n",
       "        text-align: right;\n",
       "    }\n",
       "</style>\n",
       "<table border=\"1\" class=\"dataframe\">\n",
       "  <thead>\n",
       "    <tr style=\"text-align: right;\">\n",
       "      <th></th>\n",
       "      <th>CustomerID</th>\n",
       "      <th>InvoieNo</th>\n",
       "      <th>Date of purchase</th>\n",
       "      <th>Price</th>\n",
       "    </tr>\n",
       "  </thead>\n",
       "  <tbody>\n",
       "    <tr>\n",
       "      <th>0</th>\n",
       "      <td>4355.0</td>\n",
       "      <td>398177.0</td>\n",
       "      <td>29-10-2017</td>\n",
       "      <td>1926.0</td>\n",
       "    </tr>\n",
       "    <tr>\n",
       "      <th>1</th>\n",
       "      <td>4352.0</td>\n",
       "      <td>394422.0</td>\n",
       "      <td>05-10-2017</td>\n",
       "      <td>1740.0</td>\n",
       "    </tr>\n",
       "    <tr>\n",
       "      <th>2</th>\n",
       "      <td>4352.0</td>\n",
       "      <td>394422.0</td>\n",
       "      <td>12-10-2017</td>\n",
       "      <td>1866.0</td>\n",
       "    </tr>\n",
       "    <tr>\n",
       "      <th>3</th>\n",
       "      <td>4352.0</td>\n",
       "      <td>388633.0</td>\n",
       "      <td>22-08-2017</td>\n",
       "      <td>1869.0</td>\n",
       "    </tr>\n",
       "    <tr>\n",
       "      <th>4</th>\n",
       "      <td>4352.0</td>\n",
       "      <td>394422.0</td>\n",
       "      <td>10-10-2017</td>\n",
       "      <td>1888.0</td>\n",
       "    </tr>\n",
       "  </tbody>\n",
       "</table>\n",
       "</div>"
      ],
      "text/plain": [
       "   CustomerID  InvoieNo Date of purchase   Price\n",
       "0      4355.0  398177.0       29-10-2017  1926.0\n",
       "1      4352.0  394422.0       05-10-2017  1740.0\n",
       "2      4352.0  394422.0       12-10-2017  1866.0\n",
       "3      4352.0  388633.0       22-08-2017  1869.0\n",
       "4      4352.0  394422.0       10-10-2017  1888.0"
      ]
     },
     "execution_count": 13,
     "metadata": {},
     "output_type": "execute_result"
    }
   ],
   "source": [
    "df = df[['CustomerID','InvoieNo', 'Date of purchase','Price']]\n",
    "df.head()"
   ]
  },
  {
   "cell_type": "code",
   "execution_count": null,
   "id": "67205229-e630-42fd-9f68-705020385e1d",
   "metadata": {
    "id": "67205229-e630-42fd-9f68-705020385e1d",
    "outputId": "e0dc81f6-7e5d-4807-f343-74a88f9c6e5d"
   },
   "outputs": [
    {
     "data": {
      "text/plain": [
       "CustomerID          24.869370\n",
       "InvoieNo             0.000186\n",
       "Date of purchase     0.000186\n",
       "Price                0.000186\n",
       "dtype: float64"
      ]
     },
     "execution_count": 15,
     "metadata": {},
     "output_type": "execute_result"
    }
   ],
   "source": [
    "df.isnull().sum()/len(df)*100"
   ]
  },
  {
   "cell_type": "code",
   "execution_count": null,
   "id": "d2ee0a4a-e56b-4b0d-bddd-ae948e7aa252",
   "metadata": {
    "id": "d2ee0a4a-e56b-4b0d-bddd-ae948e7aa252",
    "outputId": "b84ae0f2-1682-477f-fbcf-b2e7baa24eec"
   },
   "outputs": [
    {
     "data": {
      "text/plain": [
       "CustomerID          0\n",
       "InvoieNo            0\n",
       "Date of purchase    0\n",
       "Price               0\n",
       "dtype: int64"
      ]
     },
     "execution_count": 17,
     "metadata": {},
     "output_type": "execute_result"
    }
   ],
   "source": [
    "df = df.dropna(subset=['CustomerID'])\n",
    "df.isnull().sum()"
   ]
  },
  {
   "cell_type": "code",
   "execution_count": null,
   "id": "8e0b4f1a-0eda-48ca-a84c-27d5f72747a2",
   "metadata": {
    "id": "8e0b4f1a-0eda-48ca-a84c-27d5f72747a2",
    "outputId": "596b2aaa-07a1-4c80-8c96-2b9aa31b5ab7"
   },
   "outputs": [
    {
     "data": {
      "text/plain": [
       "(404181, 4)"
      ]
     },
     "execution_count": 19,
     "metadata": {},
     "output_type": "execute_result"
    }
   ],
   "source": [
    "df.shape"
   ]
  },
  {
   "cell_type": "code",
   "execution_count": null,
   "id": "0d084f9e-c81c-4967-9eb6-eca0a3e6a600",
   "metadata": {
    "id": "0d084f9e-c81c-4967-9eb6-eca0a3e6a600",
    "outputId": "faa1124b-1cbc-435c-be0e-04f605c78bee"
   },
   "outputs": [
    {
     "name": "stdout",
     "output_type": "stream",
     "text": [
      "<class 'pandas.core.frame.DataFrame'>\n",
      "Index: 404181 entries, 0 to 537940\n",
      "Data columns (total 4 columns):\n",
      " #   Column            Non-Null Count   Dtype  \n",
      "---  ------            --------------   -----  \n",
      " 0   CustomerID        404181 non-null  float64\n",
      " 1   InvoieNo          404181 non-null  float64\n",
      " 2   Date of purchase  404181 non-null  object \n",
      " 3   Price             404181 non-null  float64\n",
      "dtypes: float64(3), object(1)\n",
      "memory usage: 15.4+ MB\n"
     ]
    }
   ],
   "source": [
    "df.info()"
   ]
  },
  {
   "cell_type": "code",
   "execution_count": null,
   "id": "ca7288ad-79fd-497e-bbd7-65e75f85b794",
   "metadata": {},
   "outputs": [],
   "source": [
    "df['Date of purchase'] = pd.to_datetime(df['Date of purchase'])"
   ]
  },
  {
   "cell_type": "code",
   "execution_count": null,
   "id": "a0f81972-4206-4916-be44-52fefe0ffbfb",
   "metadata": {
    "id": "a0f81972-4206-4916-be44-52fefe0ffbfb",
    "outputId": "b4711101-5975-4d78-afb6-ae5a5c16ae46"
   },
   "outputs": [
    {
     "name": "stdout",
     "output_type": "stream",
     "text": [
      "<class 'pandas.core.frame.DataFrame'>\n",
      "Index: 404181 entries, 0 to 537940\n",
      "Data columns (total 4 columns):\n",
      " #   Column            Non-Null Count   Dtype         \n",
      "---  ------            --------------   -----         \n",
      " 0   CustomerID        404181 non-null  float64       \n",
      " 1   InvoieNo          404181 non-null  float64       \n",
      " 2   Date of purchase  404181 non-null  datetime64[ns]\n",
      " 3   Price             404181 non-null  float64       \n",
      "dtypes: datetime64[ns](1), float64(3)\n",
      "memory usage: 15.4 MB\n"
     ]
    }
   ],
   "source": [
    "df.info()"
   ]
  },
  {
   "cell_type": "code",
   "execution_count": null,
   "id": "80ec0262-7bc7-4692-bd92-3282858c9d6b",
   "metadata": {
    "id": "80ec0262-7bc7-4692-bd92-3282858c9d6b",
    "outputId": "20c69af2-683f-484c-e944-ba8a0f62804c"
   },
   "outputs": [
    {
     "data": {
      "text/html": [
       "<div>\n",
       "<style scoped>\n",
       "    .dataframe tbody tr th:only-of-type {\n",
       "        vertical-align: middle;\n",
       "    }\n",
       "\n",
       "    .dataframe tbody tr th {\n",
       "        vertical-align: top;\n",
       "    }\n",
       "\n",
       "    .dataframe thead th {\n",
       "        text-align: right;\n",
       "    }\n",
       "</style>\n",
       "<table border=\"1\" class=\"dataframe\">\n",
       "  <thead>\n",
       "    <tr style=\"text-align: right;\">\n",
       "      <th></th>\n",
       "      <th>CustomerID</th>\n",
       "      <th>InvoieNo</th>\n",
       "      <th>Date of purchase</th>\n",
       "      <th>Price</th>\n",
       "    </tr>\n",
       "  </thead>\n",
       "  <tbody>\n",
       "    <tr>\n",
       "      <th>0</th>\n",
       "      <td>4355.0</td>\n",
       "      <td>398177.0</td>\n",
       "      <td>2017-10-29</td>\n",
       "      <td>1926.0</td>\n",
       "    </tr>\n",
       "    <tr>\n",
       "      <th>1</th>\n",
       "      <td>4352.0</td>\n",
       "      <td>394422.0</td>\n",
       "      <td>2017-10-05</td>\n",
       "      <td>1740.0</td>\n",
       "    </tr>\n",
       "    <tr>\n",
       "      <th>2</th>\n",
       "      <td>4352.0</td>\n",
       "      <td>394422.0</td>\n",
       "      <td>2017-10-12</td>\n",
       "      <td>1866.0</td>\n",
       "    </tr>\n",
       "    <tr>\n",
       "      <th>3</th>\n",
       "      <td>4352.0</td>\n",
       "      <td>388633.0</td>\n",
       "      <td>2017-08-22</td>\n",
       "      <td>1869.0</td>\n",
       "    </tr>\n",
       "    <tr>\n",
       "      <th>4</th>\n",
       "      <td>4352.0</td>\n",
       "      <td>394422.0</td>\n",
       "      <td>2017-10-10</td>\n",
       "      <td>1888.0</td>\n",
       "    </tr>\n",
       "  </tbody>\n",
       "</table>\n",
       "</div>"
      ],
      "text/plain": [
       "   CustomerID  InvoieNo Date of purchase   Price\n",
       "0      4355.0  398177.0       2017-10-29  1926.0\n",
       "1      4352.0  394422.0       2017-10-05  1740.0\n",
       "2      4352.0  394422.0       2017-10-12  1866.0\n",
       "3      4352.0  388633.0       2017-08-22  1869.0\n",
       "4      4352.0  394422.0       2017-10-10  1888.0"
      ]
     },
     "execution_count": 27,
     "metadata": {},
     "output_type": "execute_result"
    }
   ],
   "source": [
    "df.head()"
   ]
  },
  {
   "cell_type": "code",
   "execution_count": null,
   "id": "2fc7a787-d0e2-4c9a-8936-ce396451a33b",
   "metadata": {
    "id": "2fc7a787-d0e2-4c9a-8936-ce396451a33b",
    "outputId": "a0e95f68-6837-4b4e-a029-127ce7d5179f"
   },
   "outputs": [
    {
     "data": {
      "text/plain": [
       "Index(['CustomerID', 'InvoieNo', 'Date of purchase', 'Price'], dtype='object')"
      ]
     },
     "execution_count": 29,
     "metadata": {},
     "output_type": "execute_result"
    }
   ],
   "source": [
    "df.columns"
   ]
  },
  {
   "cell_type": "code",
   "execution_count": null,
   "id": "fa550d45-629e-4ff1-b2d2-54bcee84f1ff",
   "metadata": {
    "id": "fa550d45-629e-4ff1-b2d2-54bcee84f1ff",
    "outputId": "cb2c1752-6d4e-4535-dc66-de232cab1558"
   },
   "outputs": [
    {
     "data": {
      "text/html": [
       "<div>\n",
       "<style scoped>\n",
       "    .dataframe tbody tr th:only-of-type {\n",
       "        vertical-align: middle;\n",
       "    }\n",
       "\n",
       "    .dataframe tbody tr th {\n",
       "        vertical-align: top;\n",
       "    }\n",
       "\n",
       "    .dataframe thead th {\n",
       "        text-align: right;\n",
       "    }\n",
       "</style>\n",
       "<table border=\"1\" class=\"dataframe\">\n",
       "  <thead>\n",
       "    <tr style=\"text-align: right;\">\n",
       "      <th></th>\n",
       "      <th>CustomerID</th>\n",
       "      <th>InvoiceNo</th>\n",
       "      <th>Date</th>\n",
       "      <th>Price</th>\n",
       "    </tr>\n",
       "  </thead>\n",
       "  <tbody>\n",
       "    <tr>\n",
       "      <th>0</th>\n",
       "      <td>4355.0</td>\n",
       "      <td>398177.0</td>\n",
       "      <td>2017-10-29</td>\n",
       "      <td>1926.0</td>\n",
       "    </tr>\n",
       "    <tr>\n",
       "      <th>1</th>\n",
       "      <td>4352.0</td>\n",
       "      <td>394422.0</td>\n",
       "      <td>2017-10-05</td>\n",
       "      <td>1740.0</td>\n",
       "    </tr>\n",
       "    <tr>\n",
       "      <th>2</th>\n",
       "      <td>4352.0</td>\n",
       "      <td>394422.0</td>\n",
       "      <td>2017-10-12</td>\n",
       "      <td>1866.0</td>\n",
       "    </tr>\n",
       "    <tr>\n",
       "      <th>3</th>\n",
       "      <td>4352.0</td>\n",
       "      <td>388633.0</td>\n",
       "      <td>2017-08-22</td>\n",
       "      <td>1869.0</td>\n",
       "    </tr>\n",
       "    <tr>\n",
       "      <th>4</th>\n",
       "      <td>4352.0</td>\n",
       "      <td>394422.0</td>\n",
       "      <td>2017-10-10</td>\n",
       "      <td>1888.0</td>\n",
       "    </tr>\n",
       "  </tbody>\n",
       "</table>\n",
       "</div>"
      ],
      "text/plain": [
       "   CustomerID  InvoiceNo       Date   Price\n",
       "0      4355.0   398177.0 2017-10-29  1926.0\n",
       "1      4352.0   394422.0 2017-10-05  1740.0\n",
       "2      4352.0   394422.0 2017-10-12  1866.0\n",
       "3      4352.0   388633.0 2017-08-22  1869.0\n",
       "4      4352.0   394422.0 2017-10-10  1888.0"
      ]
     },
     "execution_count": 31,
     "metadata": {},
     "output_type": "execute_result"
    }
   ],
   "source": [
    "df = df.rename(columns = {\"InvoieNo\":\"InvoiceNo\", \"Date of purchase\":\"Date\"})\n",
    "df.head()"
   ]
  },
  {
   "cell_type": "code",
   "execution_count": null,
   "id": "4daa3b7c-fd88-4d5e-a135-364ad5fa30c2",
   "metadata": {
    "id": "4daa3b7c-fd88-4d5e-a135-364ad5fa30c2",
    "outputId": "5002fa67-b083-4551-87ec-6ff1f50fe7a1"
   },
   "outputs": [
    {
     "data": {
      "text/plain": [
       "count                           404181\n",
       "mean     2017-07-15 15:28:28.388073472\n",
       "min                2016-12-02 00:00:00\n",
       "25%                2017-04-12 00:00:00\n",
       "50%                2017-08-05 00:00:00\n",
       "75%                2017-10-26 00:00:00\n",
       "max                2017-12-19 00:00:00\n",
       "Name: Date, dtype: object"
      ]
     },
     "execution_count": 33,
     "metadata": {},
     "output_type": "execute_result"
    }
   ],
   "source": [
    "df['Date'].describe()"
   ]
  },
  {
   "cell_type": "code",
   "execution_count": null,
   "id": "b96985c5-5d07-464c-aec4-d9174807d878",
   "metadata": {
    "id": "b96985c5-5d07-464c-aec4-d9174807d878"
   },
   "outputs": [],
   "source": [
    "import datetime"
   ]
  },
  {
   "cell_type": "code",
   "execution_count": null,
   "id": "893915ad-28ee-4fe4-a6d3-92a3ecd46599",
   "metadata": {
    "id": "893915ad-28ee-4fe4-a6d3-92a3ecd46599",
    "outputId": "f3fe5b61-e0dc-4c53-af72-499fd94e40d7"
   },
   "outputs": [
    {
     "data": {
      "text/plain": [
       "datetime.datetime(2017, 12, 20, 0, 0)"
      ]
     },
     "execution_count": 45,
     "metadata": {},
     "output_type": "execute_result"
    }
   ],
   "source": [
    "new_date = datetime.datetime(2017,12,20)\n",
    "new_date"
   ]
  },
  {
   "cell_type": "markdown",
   "id": "09994fbf-2ed4-40cc-bab3-29fddb814971",
   "metadata": {},
   "source": [
    "### RFM Calculation\n",
    "1. **Recency**: Number of days since the last purchase.\n",
    "2. **Frequency**: Total number of transactions.\n",
    "3. **Monetary**: Total amount spent by the customer."
   ]
  },
  {
   "cell_type": "code",
   "execution_count": null,
   "id": "1e8fbfb7-6589-496e-aeea-6008d3377741",
   "metadata": {
    "id": "1e8fbfb7-6589-496e-aeea-6008d3377741",
    "outputId": "279c46a3-b2f0-4092-d15e-a9401d7d942b"
   },
   "outputs": [
    {
     "data": {
      "text/plain": [
       "4349"
      ]
     },
     "execution_count": 48,
     "metadata": {},
     "output_type": "execute_result"
    }
   ],
   "source": [
    "df['CustomerID'].nunique()"
   ]
  },
  {
   "cell_type": "code",
   "execution_count": null,
   "id": "fbfa171d-7ff1-4d07-a671-c92e2c9bdd6f",
   "metadata": {
    "id": "fbfa171d-7ff1-4d07-a671-c92e2c9bdd6f",
    "outputId": "a6da7187-bc73-4a8a-902d-a1e2ff748bae"
   },
   "outputs": [
    {
     "data": {
      "text/plain": [
       "CustomerID\n",
       "4043.0    7970\n",
       "1896.0    5874\n",
       "1301.0    5099\n",
       "331.0     4615\n",
       "1675.0    2779\n",
       "          ... \n",
       "2198.0       1\n",
       "3209.0       1\n",
       "2251.0       1\n",
       "3127.0       1\n",
       "3244.0       1\n",
       "Name: count, Length: 4349, dtype: int64"
      ]
     },
     "execution_count": 50,
     "metadata": {},
     "output_type": "execute_result"
    }
   ],
   "source": [
    "df['CustomerID'].value_counts()"
   ]
  },
  {
   "cell_type": "code",
   "execution_count": null,
   "id": "a2eb61c0-6c2b-4768-9667-f5598f1afe73",
   "metadata": {
    "id": "a2eb61c0-6c2b-4768-9667-f5598f1afe73",
    "outputId": "e1d68ad9-8eff-4df8-b122-3cb2fdc400a6"
   },
   "outputs": [
    {
     "data": {
      "text/plain": [
       "Index(['CustomerID', 'InvoiceNo', 'Date', 'Price'], dtype='object')"
      ]
     },
     "execution_count": 52,
     "metadata": {},
     "output_type": "execute_result"
    }
   ],
   "source": [
    "df.columns"
   ]
  },
  {
   "cell_type": "code",
   "execution_count": null,
   "id": "affe29c8-7be4-4f7e-b271-995abb935720",
   "metadata": {
    "id": "affe29c8-7be4-4f7e-b271-995abb935720",
    "outputId": "ee7d3903-9722-4e7f-ca2a-e1a3c9d301eb"
   },
   "outputs": [
    {
     "data": {
      "text/html": [
       "<div>\n",
       "<style scoped>\n",
       "    .dataframe tbody tr th:only-of-type {\n",
       "        vertical-align: middle;\n",
       "    }\n",
       "\n",
       "    .dataframe tbody tr th {\n",
       "        vertical-align: top;\n",
       "    }\n",
       "\n",
       "    .dataframe thead th {\n",
       "        text-align: right;\n",
       "    }\n",
       "</style>\n",
       "<table border=\"1\" class=\"dataframe\">\n",
       "  <thead>\n",
       "    <tr style=\"text-align: right;\">\n",
       "      <th></th>\n",
       "      <th>CustomerID</th>\n",
       "      <th>Date</th>\n",
       "      <th>InvoiceNo</th>\n",
       "      <th>Price</th>\n",
       "    </tr>\n",
       "  </thead>\n",
       "  <tbody>\n",
       "    <tr>\n",
       "      <th>0</th>\n",
       "      <td>2.0</td>\n",
       "      <td>4</td>\n",
       "      <td>182</td>\n",
       "      <td>553704.0</td>\n",
       "    </tr>\n",
       "    <tr>\n",
       "      <th>1</th>\n",
       "      <td>3.0</td>\n",
       "      <td>77</td>\n",
       "      <td>27</td>\n",
       "      <td>257404.0</td>\n",
       "    </tr>\n",
       "    <tr>\n",
       "      <th>2</th>\n",
       "      <td>4.0</td>\n",
       "      <td>19</td>\n",
       "      <td>72</td>\n",
       "      <td>176613.0</td>\n",
       "    </tr>\n",
       "    <tr>\n",
       "      <th>3</th>\n",
       "      <td>5.0</td>\n",
       "      <td>311</td>\n",
       "      <td>16</td>\n",
       "      <td>41976.0</td>\n",
       "    </tr>\n",
       "    <tr>\n",
       "      <th>4</th>\n",
       "      <td>6.0</td>\n",
       "      <td>37</td>\n",
       "      <td>84</td>\n",
       "      <td>151822.0</td>\n",
       "    </tr>\n",
       "    <tr>\n",
       "      <th>...</th>\n",
       "      <td>...</td>\n",
       "      <td>...</td>\n",
       "      <td>...</td>\n",
       "      <td>...</td>\n",
       "    </tr>\n",
       "    <tr>\n",
       "      <th>4344</th>\n",
       "      <td>4368.0</td>\n",
       "      <td>278</td>\n",
       "      <td>10</td>\n",
       "      <td>20480.0</td>\n",
       "    </tr>\n",
       "    <tr>\n",
       "      <th>4345</th>\n",
       "      <td>4369.0</td>\n",
       "      <td>181</td>\n",
       "      <td>7</td>\n",
       "      <td>10774.0</td>\n",
       "    </tr>\n",
       "    <tr>\n",
       "      <th>4346</th>\n",
       "      <td>4370.0</td>\n",
       "      <td>9</td>\n",
       "      <td>13</td>\n",
       "      <td>24962.0</td>\n",
       "    </tr>\n",
       "    <tr>\n",
       "      <th>4347</th>\n",
       "      <td>4371.0</td>\n",
       "      <td>4</td>\n",
       "      <td>754</td>\n",
       "      <td>280608.0</td>\n",
       "    </tr>\n",
       "    <tr>\n",
       "      <th>4348</th>\n",
       "      <td>4372.0</td>\n",
       "      <td>44</td>\n",
       "      <td>70</td>\n",
       "      <td>262820.0</td>\n",
       "    </tr>\n",
       "  </tbody>\n",
       "</table>\n",
       "<p>4349 rows × 4 columns</p>\n",
       "</div>"
      ],
      "text/plain": [
       "      CustomerID  Date  InvoiceNo     Price\n",
       "0            2.0     4        182  553704.0\n",
       "1            3.0    77         27  257404.0\n",
       "2            4.0    19         72  176613.0\n",
       "3            5.0   311         16   41976.0\n",
       "4            6.0    37         84  151822.0\n",
       "...          ...   ...        ...       ...\n",
       "4344      4368.0   278         10   20480.0\n",
       "4345      4369.0   181          7   10774.0\n",
       "4346      4370.0     9         13   24962.0\n",
       "4347      4371.0     4        754  280608.0\n",
       "4348      4372.0    44         70  262820.0\n",
       "\n",
       "[4349 rows x 4 columns]"
      ]
     },
     "execution_count": 54,
     "metadata": {},
     "output_type": "execute_result"
    }
   ],
   "source": [
    "# Creating pi-vot table basis customer insight\n",
    "RMFApproach = df.groupby('CustomerID').agg({'Date': lambda x: (new_date - x.max()).days,\n",
    "                                            'InvoiceNo' : lambda x: x.count(),\n",
    "                                            'Price': lambda x: x.sum()})\n",
    "\n",
    "RMFApproach.reset_index()"
   ]
  },
  {
   "cell_type": "code",
   "execution_count": null,
   "id": "5f32719c-2841-47e9-8117-b398b5f5dc67",
   "metadata": {
    "id": "5f32719c-2841-47e9-8117-b398b5f5dc67"
   },
   "outputs": [],
   "source": [
    "RMFApproach.rename(columns = {'Date':'Recency', 'InvoiceNo':'Frequency',\n",
    "                              'Price':'Monetory'}, inplace=True)"
   ]
  },
  {
   "cell_type": "code",
   "execution_count": null,
   "id": "1cc5ae8f-ca0d-4e5d-82ac-3ed5abb38761",
   "metadata": {
    "id": "1cc5ae8f-ca0d-4e5d-82ac-3ed5abb38761",
    "outputId": "a13791c4-e223-48c8-84c3-dbe7e8142846"
   },
   "outputs": [
    {
     "data": {
      "text/html": [
       "<div>\n",
       "<style scoped>\n",
       "    .dataframe tbody tr th:only-of-type {\n",
       "        vertical-align: middle;\n",
       "    }\n",
       "\n",
       "    .dataframe tbody tr th {\n",
       "        vertical-align: top;\n",
       "    }\n",
       "\n",
       "    .dataframe thead th {\n",
       "        text-align: right;\n",
       "    }\n",
       "</style>\n",
       "<table border=\"1\" class=\"dataframe\">\n",
       "  <thead>\n",
       "    <tr style=\"text-align: right;\">\n",
       "      <th></th>\n",
       "      <th>CustomerID</th>\n",
       "      <th>Recency</th>\n",
       "      <th>Frequency</th>\n",
       "      <th>Monetory</th>\n",
       "    </tr>\n",
       "  </thead>\n",
       "  <tbody>\n",
       "    <tr>\n",
       "      <th>0</th>\n",
       "      <td>2.0</td>\n",
       "      <td>4</td>\n",
       "      <td>182</td>\n",
       "      <td>553704.0</td>\n",
       "    </tr>\n",
       "    <tr>\n",
       "      <th>1</th>\n",
       "      <td>3.0</td>\n",
       "      <td>77</td>\n",
       "      <td>27</td>\n",
       "      <td>257404.0</td>\n",
       "    </tr>\n",
       "    <tr>\n",
       "      <th>2</th>\n",
       "      <td>4.0</td>\n",
       "      <td>19</td>\n",
       "      <td>72</td>\n",
       "      <td>176613.0</td>\n",
       "    </tr>\n",
       "    <tr>\n",
       "      <th>3</th>\n",
       "      <td>5.0</td>\n",
       "      <td>311</td>\n",
       "      <td>16</td>\n",
       "      <td>41976.0</td>\n",
       "    </tr>\n",
       "    <tr>\n",
       "      <th>4</th>\n",
       "      <td>6.0</td>\n",
       "      <td>37</td>\n",
       "      <td>84</td>\n",
       "      <td>151822.0</td>\n",
       "    </tr>\n",
       "    <tr>\n",
       "      <th>...</th>\n",
       "      <td>...</td>\n",
       "      <td>...</td>\n",
       "      <td>...</td>\n",
       "      <td>...</td>\n",
       "    </tr>\n",
       "    <tr>\n",
       "      <th>4344</th>\n",
       "      <td>4368.0</td>\n",
       "      <td>278</td>\n",
       "      <td>10</td>\n",
       "      <td>20480.0</td>\n",
       "    </tr>\n",
       "    <tr>\n",
       "      <th>4345</th>\n",
       "      <td>4369.0</td>\n",
       "      <td>181</td>\n",
       "      <td>7</td>\n",
       "      <td>10774.0</td>\n",
       "    </tr>\n",
       "    <tr>\n",
       "      <th>4346</th>\n",
       "      <td>4370.0</td>\n",
       "      <td>9</td>\n",
       "      <td>13</td>\n",
       "      <td>24962.0</td>\n",
       "    </tr>\n",
       "    <tr>\n",
       "      <th>4347</th>\n",
       "      <td>4371.0</td>\n",
       "      <td>4</td>\n",
       "      <td>754</td>\n",
       "      <td>280608.0</td>\n",
       "    </tr>\n",
       "    <tr>\n",
       "      <th>4348</th>\n",
       "      <td>4372.0</td>\n",
       "      <td>44</td>\n",
       "      <td>70</td>\n",
       "      <td>262820.0</td>\n",
       "    </tr>\n",
       "  </tbody>\n",
       "</table>\n",
       "<p>4349 rows × 4 columns</p>\n",
       "</div>"
      ],
      "text/plain": [
       "      CustomerID  Recency  Frequency  Monetory\n",
       "0            2.0        4        182  553704.0\n",
       "1            3.0       77         27  257404.0\n",
       "2            4.0       19         72  176613.0\n",
       "3            5.0      311         16   41976.0\n",
       "4            6.0       37         84  151822.0\n",
       "...          ...      ...        ...       ...\n",
       "4344      4368.0      278         10   20480.0\n",
       "4345      4369.0      181          7   10774.0\n",
       "4346      4370.0        9         13   24962.0\n",
       "4347      4371.0        4        754  280608.0\n",
       "4348      4372.0       44         70  262820.0\n",
       "\n",
       "[4349 rows x 4 columns]"
      ]
     },
     "execution_count": 60,
     "metadata": {},
     "output_type": "execute_result"
    }
   ],
   "source": [
    "RMFApproach.reset_index()"
   ]
  },
  {
   "cell_type": "code",
   "execution_count": null,
   "id": "c2588d74-fa8e-46bb-a4ff-2b1c897f218c",
   "metadata": {
    "id": "c2588d74-fa8e-46bb-a4ff-2b1c897f218c",
    "outputId": "81006297-7c1b-413e-a780-e4db0cc47082"
   },
   "outputs": [
    {
     "data": {
      "text/html": [
       "<div>\n",
       "<style scoped>\n",
       "    .dataframe tbody tr th:only-of-type {\n",
       "        vertical-align: middle;\n",
       "    }\n",
       "\n",
       "    .dataframe tbody tr th {\n",
       "        vertical-align: top;\n",
       "    }\n",
       "\n",
       "    .dataframe thead th {\n",
       "        text-align: right;\n",
       "    }\n",
       "</style>\n",
       "<table border=\"1\" class=\"dataframe\">\n",
       "  <thead>\n",
       "    <tr style=\"text-align: right;\">\n",
       "      <th></th>\n",
       "      <th>Recency</th>\n",
       "      <th>Frequency</th>\n",
       "      <th>Monetory</th>\n",
       "    </tr>\n",
       "  </thead>\n",
       "  <tbody>\n",
       "    <tr>\n",
       "      <th>count</th>\n",
       "      <td>4349.000000</td>\n",
       "      <td>4349.000000</td>\n",
       "      <td>4.349000e+03</td>\n",
       "    </tr>\n",
       "    <tr>\n",
       "      <th>mean</th>\n",
       "      <td>93.299379</td>\n",
       "      <td>92.936537</td>\n",
       "      <td>2.299380e+05</td>\n",
       "    </tr>\n",
       "    <tr>\n",
       "      <th>std</th>\n",
       "      <td>100.701315</td>\n",
       "      <td>232.086935</td>\n",
       "      <td>8.572589e+05</td>\n",
       "    </tr>\n",
       "    <tr>\n",
       "      <th>min</th>\n",
       "      <td>1.000000</td>\n",
       "      <td>1.000000</td>\n",
       "      <td>-5.037200e+04</td>\n",
       "    </tr>\n",
       "    <tr>\n",
       "      <th>25%</th>\n",
       "      <td>18.000000</td>\n",
       "      <td>17.000000</td>\n",
       "      <td>3.814800e+04</td>\n",
       "    </tr>\n",
       "    <tr>\n",
       "      <th>50%</th>\n",
       "      <td>51.000000</td>\n",
       "      <td>42.000000</td>\n",
       "      <td>8.365500e+04</td>\n",
       "    </tr>\n",
       "    <tr>\n",
       "      <th>75%</th>\n",
       "      <td>144.000000</td>\n",
       "      <td>101.000000</td>\n",
       "      <td>2.056120e+05</td>\n",
       "    </tr>\n",
       "    <tr>\n",
       "      <th>max</th>\n",
       "      <td>381.000000</td>\n",
       "      <td>7970.000000</td>\n",
       "      <td>3.553619e+07</td>\n",
       "    </tr>\n",
       "  </tbody>\n",
       "</table>\n",
       "</div>"
      ],
      "text/plain": [
       "           Recency    Frequency      Monetory\n",
       "count  4349.000000  4349.000000  4.349000e+03\n",
       "mean     93.299379    92.936537  2.299380e+05\n",
       "std     100.701315   232.086935  8.572589e+05\n",
       "min       1.000000     1.000000 -5.037200e+04\n",
       "25%      18.000000    17.000000  3.814800e+04\n",
       "50%      51.000000    42.000000  8.365500e+04\n",
       "75%     144.000000   101.000000  2.056120e+05\n",
       "max     381.000000  7970.000000  3.553619e+07"
      ]
     },
     "execution_count": 62,
     "metadata": {},
     "output_type": "execute_result"
    }
   ],
   "source": [
    "RMFApproach.describe()"
   ]
  },
  {
   "cell_type": "code",
   "execution_count": null,
   "id": "0414bb48-d02b-4a5c-aadc-b48ae5cadfe7",
   "metadata": {
    "id": "0414bb48-d02b-4a5c-aadc-b48ae5cadfe7",
    "outputId": "cc5d231e-995b-4f1f-d604-0ff6b53ceeb1"
   },
   "outputs": [
    {
     "data": {
      "text/plain": [
       "{'Recency': {0.25: 18.0, 0.5: 51.0, 0.75: 144.0},\n",
       " 'Frequency': {0.25: 17.0, 0.5: 42.0, 0.75: 101.0},\n",
       " 'Monetory': {0.25: 38148.0, 0.5: 83655.0, 0.75: 205612.0}}"
      ]
     },
     "execution_count": 64,
     "metadata": {},
     "output_type": "execute_result"
    }
   ],
   "source": [
    "quantile = RMFApproach.quantile(q=[0.25, 0.50, 0.75])\n",
    "quantile = quantile.to_dict()\n",
    "quantile"
   ]
  },
  {
   "cell_type": "code",
   "execution_count": null,
   "id": "33242ca0-fffd-470b-abd6-f5e38b23f33f",
   "metadata": {
    "id": "33242ca0-fffd-470b-abd6-f5e38b23f33f"
   },
   "outputs": [],
   "source": [
    "def recency_value(x,p,d):\n",
    "    if x <= d[p][0.25]:\n",
    "        return 1\n",
    "    elif x <= d[p][0.50]:\n",
    "        return 2\n",
    "    elif x <=d[p][0.75]:\n",
    "        return 3\n",
    "    else:\n",
    "        return 4"
   ]
  },
  {
   "cell_type": "code",
   "execution_count": null,
   "id": "d1690da3-5939-4813-a7bb-e91064414bc7",
   "metadata": {
    "id": "d1690da3-5939-4813-a7bb-e91064414bc7"
   },
   "outputs": [],
   "source": [
    "def freq_monetory_value(x,p,d):\n",
    "    if x <= d[p][0.25]:\n",
    "        return 4\n",
    "    elif x <= d[p][0.50]:\n",
    "        return 3\n",
    "    elif x <= d[p][0.75]:\n",
    "        return 2\n",
    "    else:\n",
    "        return 1"
   ]
  },
  {
   "cell_type": "code",
   "execution_count": null,
   "id": "2f248447-9826-4f46-84e8-d45ec75fb4b3",
   "metadata": {
    "id": "2f248447-9826-4f46-84e8-d45ec75fb4b3",
    "outputId": "649d71ac-060f-4c47-cbe9-86a14e9c16ed"
   },
   "outputs": [
    {
     "data": {
      "text/plain": [
       "Index(['Recency', 'Frequency', 'Monetory'], dtype='object')"
      ]
     },
     "execution_count": 70,
     "metadata": {},
     "output_type": "execute_result"
    }
   ],
   "source": [
    "RMFApproach.columns"
   ]
  },
  {
   "cell_type": "code",
   "execution_count": null,
   "id": "7caa285b-39f5-4053-8b6e-215a48ccee4e",
   "metadata": {
    "id": "7caa285b-39f5-4053-8b6e-215a48ccee4e"
   },
   "outputs": [],
   "source": [
    "RMFApproach['R'] = RMFApproach['Recency'].apply(recency_value, args=('Recency', quantile))\n",
    "RMFApproach['F'] = RMFApproach['Frequency'].apply(freq_monetory_value, args=('Frequency', quantile))\n",
    "RMFApproach['M'] = RMFApproach['Monetory'].apply(freq_monetory_value, args=('Monetory', quantile))"
   ]
  },
  {
   "cell_type": "code",
   "execution_count": null,
   "id": "bc9cbbfc-b88a-40cd-960f-ebbb5a3543d2",
   "metadata": {
    "id": "bc9cbbfc-b88a-40cd-960f-ebbb5a3543d2",
    "outputId": "ca8d27d2-7955-487e-edea-d146511e6619"
   },
   "outputs": [
    {
     "data": {
      "text/html": [
       "<div>\n",
       "<style scoped>\n",
       "    .dataframe tbody tr th:only-of-type {\n",
       "        vertical-align: middle;\n",
       "    }\n",
       "\n",
       "    .dataframe tbody tr th {\n",
       "        vertical-align: top;\n",
       "    }\n",
       "\n",
       "    .dataframe thead th {\n",
       "        text-align: right;\n",
       "    }\n",
       "</style>\n",
       "<table border=\"1\" class=\"dataframe\">\n",
       "  <thead>\n",
       "    <tr style=\"text-align: right;\">\n",
       "      <th></th>\n",
       "      <th>CustomerID</th>\n",
       "      <th>Recency</th>\n",
       "      <th>Frequency</th>\n",
       "      <th>Monetory</th>\n",
       "      <th>R</th>\n",
       "      <th>F</th>\n",
       "      <th>M</th>\n",
       "    </tr>\n",
       "  </thead>\n",
       "  <tbody>\n",
       "    <tr>\n",
       "      <th>0</th>\n",
       "      <td>2.0</td>\n",
       "      <td>4</td>\n",
       "      <td>182</td>\n",
       "      <td>553704.0</td>\n",
       "      <td>1</td>\n",
       "      <td>1</td>\n",
       "      <td>1</td>\n",
       "    </tr>\n",
       "    <tr>\n",
       "      <th>1</th>\n",
       "      <td>3.0</td>\n",
       "      <td>77</td>\n",
       "      <td>27</td>\n",
       "      <td>257404.0</td>\n",
       "      <td>3</td>\n",
       "      <td>3</td>\n",
       "      <td>1</td>\n",
       "    </tr>\n",
       "    <tr>\n",
       "      <th>2</th>\n",
       "      <td>4.0</td>\n",
       "      <td>19</td>\n",
       "      <td>72</td>\n",
       "      <td>176613.0</td>\n",
       "      <td>2</td>\n",
       "      <td>2</td>\n",
       "      <td>2</td>\n",
       "    </tr>\n",
       "    <tr>\n",
       "      <th>3</th>\n",
       "      <td>5.0</td>\n",
       "      <td>311</td>\n",
       "      <td>16</td>\n",
       "      <td>41976.0</td>\n",
       "      <td>4</td>\n",
       "      <td>4</td>\n",
       "      <td>3</td>\n",
       "    </tr>\n",
       "    <tr>\n",
       "      <th>4</th>\n",
       "      <td>6.0</td>\n",
       "      <td>37</td>\n",
       "      <td>84</td>\n",
       "      <td>151822.0</td>\n",
       "      <td>2</td>\n",
       "      <td>2</td>\n",
       "      <td>2</td>\n",
       "    </tr>\n",
       "    <tr>\n",
       "      <th>...</th>\n",
       "      <td>...</td>\n",
       "      <td>...</td>\n",
       "      <td>...</td>\n",
       "      <td>...</td>\n",
       "      <td>...</td>\n",
       "      <td>...</td>\n",
       "      <td>...</td>\n",
       "    </tr>\n",
       "    <tr>\n",
       "      <th>4344</th>\n",
       "      <td>4368.0</td>\n",
       "      <td>278</td>\n",
       "      <td>10</td>\n",
       "      <td>20480.0</td>\n",
       "      <td>4</td>\n",
       "      <td>4</td>\n",
       "      <td>4</td>\n",
       "    </tr>\n",
       "    <tr>\n",
       "      <th>4345</th>\n",
       "      <td>4369.0</td>\n",
       "      <td>181</td>\n",
       "      <td>7</td>\n",
       "      <td>10774.0</td>\n",
       "      <td>4</td>\n",
       "      <td>4</td>\n",
       "      <td>4</td>\n",
       "    </tr>\n",
       "    <tr>\n",
       "      <th>4346</th>\n",
       "      <td>4370.0</td>\n",
       "      <td>9</td>\n",
       "      <td>13</td>\n",
       "      <td>24962.0</td>\n",
       "      <td>1</td>\n",
       "      <td>4</td>\n",
       "      <td>4</td>\n",
       "    </tr>\n",
       "    <tr>\n",
       "      <th>4347</th>\n",
       "      <td>4371.0</td>\n",
       "      <td>4</td>\n",
       "      <td>754</td>\n",
       "      <td>280608.0</td>\n",
       "      <td>1</td>\n",
       "      <td>1</td>\n",
       "      <td>1</td>\n",
       "    </tr>\n",
       "    <tr>\n",
       "      <th>4348</th>\n",
       "      <td>4372.0</td>\n",
       "      <td>44</td>\n",
       "      <td>70</td>\n",
       "      <td>262820.0</td>\n",
       "      <td>2</td>\n",
       "      <td>2</td>\n",
       "      <td>1</td>\n",
       "    </tr>\n",
       "  </tbody>\n",
       "</table>\n",
       "<p>4349 rows × 7 columns</p>\n",
       "</div>"
      ],
      "text/plain": [
       "      CustomerID  Recency  Frequency  Monetory  R  F  M\n",
       "0            2.0        4        182  553704.0  1  1  1\n",
       "1            3.0       77         27  257404.0  3  3  1\n",
       "2            4.0       19         72  176613.0  2  2  2\n",
       "3            5.0      311         16   41976.0  4  4  3\n",
       "4            6.0       37         84  151822.0  2  2  2\n",
       "...          ...      ...        ...       ... .. .. ..\n",
       "4344      4368.0      278         10   20480.0  4  4  4\n",
       "4345      4369.0      181          7   10774.0  4  4  4\n",
       "4346      4370.0        9         13   24962.0  1  4  4\n",
       "4347      4371.0        4        754  280608.0  1  1  1\n",
       "4348      4372.0       44         70  262820.0  2  2  1\n",
       "\n",
       "[4349 rows x 7 columns]"
      ]
     },
     "execution_count": 80,
     "metadata": {},
     "output_type": "execute_result"
    }
   ],
   "source": [
    "RMFApproach.reset_index()"
   ]
  },
  {
   "cell_type": "code",
   "execution_count": null,
   "id": "be81079f-35ea-4bdd-8126-15b2e079ad30",
   "metadata": {
    "id": "be81079f-35ea-4bdd-8126-15b2e079ad30",
    "outputId": "671a57a9-e713-4600-d8d7-c2d8f0721979"
   },
   "outputs": [
    {
     "data": {
      "text/html": [
       "<div>\n",
       "<style scoped>\n",
       "    .dataframe tbody tr th:only-of-type {\n",
       "        vertical-align: middle;\n",
       "    }\n",
       "\n",
       "    .dataframe tbody tr th {\n",
       "        vertical-align: top;\n",
       "    }\n",
       "\n",
       "    .dataframe thead th {\n",
       "        text-align: right;\n",
       "    }\n",
       "</style>\n",
       "<table border=\"1\" class=\"dataframe\">\n",
       "  <thead>\n",
       "    <tr style=\"text-align: right;\">\n",
       "      <th></th>\n",
       "      <th>CustomerID</th>\n",
       "      <th>Recency</th>\n",
       "      <th>Frequency</th>\n",
       "      <th>Monetory</th>\n",
       "      <th>R</th>\n",
       "      <th>F</th>\n",
       "      <th>M</th>\n",
       "      <th>RFM</th>\n",
       "    </tr>\n",
       "  </thead>\n",
       "  <tbody>\n",
       "    <tr>\n",
       "      <th>0</th>\n",
       "      <td>2.0</td>\n",
       "      <td>4</td>\n",
       "      <td>182</td>\n",
       "      <td>553704.0</td>\n",
       "      <td>1</td>\n",
       "      <td>1</td>\n",
       "      <td>1</td>\n",
       "      <td>3</td>\n",
       "    </tr>\n",
       "    <tr>\n",
       "      <th>1</th>\n",
       "      <td>3.0</td>\n",
       "      <td>77</td>\n",
       "      <td>27</td>\n",
       "      <td>257404.0</td>\n",
       "      <td>3</td>\n",
       "      <td>3</td>\n",
       "      <td>1</td>\n",
       "      <td>7</td>\n",
       "    </tr>\n",
       "    <tr>\n",
       "      <th>2</th>\n",
       "      <td>4.0</td>\n",
       "      <td>19</td>\n",
       "      <td>72</td>\n",
       "      <td>176613.0</td>\n",
       "      <td>2</td>\n",
       "      <td>2</td>\n",
       "      <td>2</td>\n",
       "      <td>6</td>\n",
       "    </tr>\n",
       "    <tr>\n",
       "      <th>3</th>\n",
       "      <td>5.0</td>\n",
       "      <td>311</td>\n",
       "      <td>16</td>\n",
       "      <td>41976.0</td>\n",
       "      <td>4</td>\n",
       "      <td>4</td>\n",
       "      <td>3</td>\n",
       "      <td>11</td>\n",
       "    </tr>\n",
       "    <tr>\n",
       "      <th>4</th>\n",
       "      <td>6.0</td>\n",
       "      <td>37</td>\n",
       "      <td>84</td>\n",
       "      <td>151822.0</td>\n",
       "      <td>2</td>\n",
       "      <td>2</td>\n",
       "      <td>2</td>\n",
       "      <td>6</td>\n",
       "    </tr>\n",
       "    <tr>\n",
       "      <th>...</th>\n",
       "      <td>...</td>\n",
       "      <td>...</td>\n",
       "      <td>...</td>\n",
       "      <td>...</td>\n",
       "      <td>...</td>\n",
       "      <td>...</td>\n",
       "      <td>...</td>\n",
       "      <td>...</td>\n",
       "    </tr>\n",
       "    <tr>\n",
       "      <th>4344</th>\n",
       "      <td>4368.0</td>\n",
       "      <td>278</td>\n",
       "      <td>10</td>\n",
       "      <td>20480.0</td>\n",
       "      <td>4</td>\n",
       "      <td>4</td>\n",
       "      <td>4</td>\n",
       "      <td>12</td>\n",
       "    </tr>\n",
       "    <tr>\n",
       "      <th>4345</th>\n",
       "      <td>4369.0</td>\n",
       "      <td>181</td>\n",
       "      <td>7</td>\n",
       "      <td>10774.0</td>\n",
       "      <td>4</td>\n",
       "      <td>4</td>\n",
       "      <td>4</td>\n",
       "      <td>12</td>\n",
       "    </tr>\n",
       "    <tr>\n",
       "      <th>4346</th>\n",
       "      <td>4370.0</td>\n",
       "      <td>9</td>\n",
       "      <td>13</td>\n",
       "      <td>24962.0</td>\n",
       "      <td>1</td>\n",
       "      <td>4</td>\n",
       "      <td>4</td>\n",
       "      <td>9</td>\n",
       "    </tr>\n",
       "    <tr>\n",
       "      <th>4347</th>\n",
       "      <td>4371.0</td>\n",
       "      <td>4</td>\n",
       "      <td>754</td>\n",
       "      <td>280608.0</td>\n",
       "      <td>1</td>\n",
       "      <td>1</td>\n",
       "      <td>1</td>\n",
       "      <td>3</td>\n",
       "    </tr>\n",
       "    <tr>\n",
       "      <th>4348</th>\n",
       "      <td>4372.0</td>\n",
       "      <td>44</td>\n",
       "      <td>70</td>\n",
       "      <td>262820.0</td>\n",
       "      <td>2</td>\n",
       "      <td>2</td>\n",
       "      <td>1</td>\n",
       "      <td>5</td>\n",
       "    </tr>\n",
       "  </tbody>\n",
       "</table>\n",
       "<p>4349 rows × 8 columns</p>\n",
       "</div>"
      ],
      "text/plain": [
       "      CustomerID  Recency  Frequency  Monetory  R  F  M  RFM\n",
       "0            2.0        4        182  553704.0  1  1  1    3\n",
       "1            3.0       77         27  257404.0  3  3  1    7\n",
       "2            4.0       19         72  176613.0  2  2  2    6\n",
       "3            5.0      311         16   41976.0  4  4  3   11\n",
       "4            6.0       37         84  151822.0  2  2  2    6\n",
       "...          ...      ...        ...       ... .. .. ..  ...\n",
       "4344      4368.0      278         10   20480.0  4  4  4   12\n",
       "4345      4369.0      181          7   10774.0  4  4  4   12\n",
       "4346      4370.0        9         13   24962.0  1  4  4    9\n",
       "4347      4371.0        4        754  280608.0  1  1  1    3\n",
       "4348      4372.0       44         70  262820.0  2  2  1    5\n",
       "\n",
       "[4349 rows x 8 columns]"
      ]
     },
     "execution_count": 82,
     "metadata": {},
     "output_type": "execute_result"
    }
   ],
   "source": [
    "RMFApproach['RFM'] = RMFApproach[['R','F', 'M']].sum(axis=1)\n",
    "RMFApproach.reset_index()"
   ]
  },
  {
   "cell_type": "code",
   "execution_count": null,
   "id": "8c043ada-723c-4639-9ffb-9985efcf2af8",
   "metadata": {
    "id": "8c043ada-723c-4639-9ffb-9985efcf2af8",
    "outputId": "c77b6fcf-a62d-4c1a-d7b5-e8714c357cf6"
   },
   "outputs": [
    {
     "data": {
      "text/plain": [
       "RFM\n",
       "10    507\n",
       "3     471\n",
       "7     460\n",
       "9     458\n",
       "8     447\n",
       "5     438\n",
       "12    410\n",
       "6     406\n",
       "11    380\n",
       "4     372\n",
       "Name: count, dtype: int64"
      ]
     },
     "execution_count": 84,
     "metadata": {},
     "output_type": "execute_result"
    }
   ],
   "source": [
    "RMFApproach['RFM'].value_counts()"
   ]
  },
  {
   "cell_type": "code",
   "execution_count": null,
   "id": "77688710-3cb8-4865-ae62-5420328a957c",
   "metadata": {
    "id": "77688710-3cb8-4865-ae62-5420328a957c",
    "outputId": "a506a900-d9c9-4bb7-a8f8-be47506fd550"
   },
   "outputs": [
    {
     "data": {
      "text/html": [
       "<div>\n",
       "<style scoped>\n",
       "    .dataframe tbody tr th:only-of-type {\n",
       "        vertical-align: middle;\n",
       "    }\n",
       "\n",
       "    .dataframe tbody tr th {\n",
       "        vertical-align: top;\n",
       "    }\n",
       "\n",
       "    .dataframe thead th {\n",
       "        text-align: right;\n",
       "    }\n",
       "</style>\n",
       "<table border=\"1\" class=\"dataframe\">\n",
       "  <thead>\n",
       "    <tr style=\"text-align: right;\">\n",
       "      <th></th>\n",
       "      <th>CustomerID</th>\n",
       "      <th>Recency</th>\n",
       "      <th>Frequency</th>\n",
       "      <th>Monetory</th>\n",
       "      <th>R</th>\n",
       "      <th>F</th>\n",
       "      <th>M</th>\n",
       "      <th>RFM</th>\n",
       "      <th>Loyality_level</th>\n",
       "    </tr>\n",
       "  </thead>\n",
       "  <tbody>\n",
       "    <tr>\n",
       "      <th>0</th>\n",
       "      <td>2.0</td>\n",
       "      <td>4</td>\n",
       "      <td>182</td>\n",
       "      <td>553704.0</td>\n",
       "      <td>1</td>\n",
       "      <td>1</td>\n",
       "      <td>1</td>\n",
       "      <td>3</td>\n",
       "      <td>Platinum</td>\n",
       "    </tr>\n",
       "    <tr>\n",
       "      <th>1</th>\n",
       "      <td>3.0</td>\n",
       "      <td>77</td>\n",
       "      <td>27</td>\n",
       "      <td>257404.0</td>\n",
       "      <td>3</td>\n",
       "      <td>3</td>\n",
       "      <td>1</td>\n",
       "      <td>7</td>\n",
       "      <td>Gold</td>\n",
       "    </tr>\n",
       "    <tr>\n",
       "      <th>2</th>\n",
       "      <td>4.0</td>\n",
       "      <td>19</td>\n",
       "      <td>72</td>\n",
       "      <td>176613.0</td>\n",
       "      <td>2</td>\n",
       "      <td>2</td>\n",
       "      <td>2</td>\n",
       "      <td>6</td>\n",
       "      <td>Gold</td>\n",
       "    </tr>\n",
       "    <tr>\n",
       "      <th>3</th>\n",
       "      <td>5.0</td>\n",
       "      <td>311</td>\n",
       "      <td>16</td>\n",
       "      <td>41976.0</td>\n",
       "      <td>4</td>\n",
       "      <td>4</td>\n",
       "      <td>3</td>\n",
       "      <td>11</td>\n",
       "      <td>Bronze</td>\n",
       "    </tr>\n",
       "    <tr>\n",
       "      <th>4</th>\n",
       "      <td>6.0</td>\n",
       "      <td>37</td>\n",
       "      <td>84</td>\n",
       "      <td>151822.0</td>\n",
       "      <td>2</td>\n",
       "      <td>2</td>\n",
       "      <td>2</td>\n",
       "      <td>6</td>\n",
       "      <td>Gold</td>\n",
       "    </tr>\n",
       "    <tr>\n",
       "      <th>...</th>\n",
       "      <td>...</td>\n",
       "      <td>...</td>\n",
       "      <td>...</td>\n",
       "      <td>...</td>\n",
       "      <td>...</td>\n",
       "      <td>...</td>\n",
       "      <td>...</td>\n",
       "      <td>...</td>\n",
       "      <td>...</td>\n",
       "    </tr>\n",
       "    <tr>\n",
       "      <th>4344</th>\n",
       "      <td>4368.0</td>\n",
       "      <td>278</td>\n",
       "      <td>10</td>\n",
       "      <td>20480.0</td>\n",
       "      <td>4</td>\n",
       "      <td>4</td>\n",
       "      <td>4</td>\n",
       "      <td>12</td>\n",
       "      <td>Bronze</td>\n",
       "    </tr>\n",
       "    <tr>\n",
       "      <th>4345</th>\n",
       "      <td>4369.0</td>\n",
       "      <td>181</td>\n",
       "      <td>7</td>\n",
       "      <td>10774.0</td>\n",
       "      <td>4</td>\n",
       "      <td>4</td>\n",
       "      <td>4</td>\n",
       "      <td>12</td>\n",
       "      <td>Bronze</td>\n",
       "    </tr>\n",
       "    <tr>\n",
       "      <th>4346</th>\n",
       "      <td>4370.0</td>\n",
       "      <td>9</td>\n",
       "      <td>13</td>\n",
       "      <td>24962.0</td>\n",
       "      <td>1</td>\n",
       "      <td>4</td>\n",
       "      <td>4</td>\n",
       "      <td>9</td>\n",
       "      <td>Silver</td>\n",
       "    </tr>\n",
       "    <tr>\n",
       "      <th>4347</th>\n",
       "      <td>4371.0</td>\n",
       "      <td>4</td>\n",
       "      <td>754</td>\n",
       "      <td>280608.0</td>\n",
       "      <td>1</td>\n",
       "      <td>1</td>\n",
       "      <td>1</td>\n",
       "      <td>3</td>\n",
       "      <td>Platinum</td>\n",
       "    </tr>\n",
       "    <tr>\n",
       "      <th>4348</th>\n",
       "      <td>4372.0</td>\n",
       "      <td>44</td>\n",
       "      <td>70</td>\n",
       "      <td>262820.0</td>\n",
       "      <td>2</td>\n",
       "      <td>2</td>\n",
       "      <td>1</td>\n",
       "      <td>5</td>\n",
       "      <td>Platinum</td>\n",
       "    </tr>\n",
       "  </tbody>\n",
       "</table>\n",
       "<p>4349 rows × 9 columns</p>\n",
       "</div>"
      ],
      "text/plain": [
       "      CustomerID  Recency  Frequency  Monetory  R  F  M  RFM Loyality_level\n",
       "0            2.0        4        182  553704.0  1  1  1    3       Platinum\n",
       "1            3.0       77         27  257404.0  3  3  1    7           Gold\n",
       "2            4.0       19         72  176613.0  2  2  2    6           Gold\n",
       "3            5.0      311         16   41976.0  4  4  3   11         Bronze\n",
       "4            6.0       37         84  151822.0  2  2  2    6           Gold\n",
       "...          ...      ...        ...       ... .. .. ..  ...            ...\n",
       "4344      4368.0      278         10   20480.0  4  4  4   12         Bronze\n",
       "4345      4369.0      181          7   10774.0  4  4  4   12         Bronze\n",
       "4346      4370.0        9         13   24962.0  1  4  4    9         Silver\n",
       "4347      4371.0        4        754  280608.0  1  1  1    3       Platinum\n",
       "4348      4372.0       44         70  262820.0  2  2  1    5       Platinum\n",
       "\n",
       "[4349 rows x 9 columns]"
      ]
     },
     "execution_count": 88,
     "metadata": {},
     "output_type": "execute_result"
    }
   ],
   "source": [
    "Loyality_level = ['Platinum', 'Gold', 'Silver', 'Bronze']\n",
    "score_cuts = pd.qcut(RMFApproach.RFM, q=4, labels = Loyality_level)\n",
    "RMFApproach['Loyality_level'] = score_cuts.values\n",
    "RMFApproach = RMFApproach.reset_index()\n",
    "RMFApproach"
   ]
  },
  {
   "cell_type": "code",
   "execution_count": null,
   "id": "acee7c7a-3ff3-4bb7-aac8-24b373a365fe",
   "metadata": {
    "id": "acee7c7a-3ff3-4bb7-aac8-24b373a365fe",
    "outputId": "48586c73-fd2b-40e4-d737-8f43f953e6ab"
   },
   "outputs": [
    {
     "data": {
      "text/plain": [
       "CustomerID\n",
       "2.0        3\n",
       "3.0        7\n",
       "4.0        6\n",
       "5.0       11\n",
       "6.0        6\n",
       "          ..\n",
       "4368.0    12\n",
       "4369.0    12\n",
       "4370.0     9\n",
       "4371.0     3\n",
       "4372.0     5\n",
       "Name: RFM, Length: 4349, dtype: int64"
      ]
     },
     "execution_count": 86,
     "metadata": {},
     "output_type": "execute_result"
    }
   ],
   "source": [
    "RMFApproach.RFM"
   ]
  },
  {
   "cell_type": "code",
   "execution_count": null,
   "id": "9dadef84-c1d7-4937-82b6-34a88afda36d",
   "metadata": {
    "id": "9dadef84-c1d7-4937-82b6-34a88afda36d",
    "outputId": "078c4c4d-afa9-4db7-bca3-10c3b54227ae"
   },
   "outputs": [
    {
     "data": {
      "text/plain": [
       "Loyality_level\n",
       "Gold        1313\n",
       "Platinum    1281\n",
       "Silver       965\n",
       "Bronze       790\n",
       "Name: count, dtype: int64"
      ]
     },
     "execution_count": 90,
     "metadata": {},
     "output_type": "execute_result"
    }
   ],
   "source": [
    "RMFApproach['Loyality_level'].value_counts()"
   ]
  },
  {
   "cell_type": "code",
   "execution_count": null,
   "id": "ce0c16fa-8dce-4df4-892d-1bd4877f0294",
   "metadata": {
    "id": "ce0c16fa-8dce-4df4-892d-1bd4877f0294",
    "outputId": "fa1f80fc-4622-4fd8-fb58-bc058340433e"
   },
   "outputs": [
    {
     "data": {
      "text/plain": [
       "Index(['CustomerID', 'Recency', 'Frequency', 'Monetory', 'R', 'F', 'M', 'RFM',\n",
       "       'Loyality_level'],\n",
       "      dtype='object')"
      ]
     },
     "execution_count": 94,
     "metadata": {},
     "output_type": "execute_result"
    }
   ],
   "source": [
    "RMFApproach.columns"
   ]
  },
  {
   "cell_type": "code",
   "execution_count": null,
   "id": "d8eb91f4-6b03-46d3-ba2d-0ecff22af07f",
   "metadata": {
    "id": "d8eb91f4-6b03-46d3-ba2d-0ecff22af07f"
   },
   "outputs": [],
   "source": [
    "RMFApproach.to_csv(\"final_analysis.csv\")"
   ]
  },
  {
   "cell_type": "code",
   "execution_count": null,
   "id": "4c60c243-68ac-45a6-ad5b-e293153ad14a",
   "metadata": {},
   "outputs": [],
   "source": [
    "final_report = RMFApproach.groupby('Loyality_level')[['Recency', 'Frequency',\n",
    "                                                      'Monetory','CustomerID']].agg({'Recency':'sum', 'Frequency':'sum',\n",
    "                                                                                     'Monetory':'sum','CustomerID':'nunique'}).reset_index()"
   ]
  },
  {
   "cell_type": "code",
   "execution_count": null,
   "id": "9276bb2a-2ddc-450c-befc-2a0fcf85233c",
   "metadata": {
    "id": "9276bb2a-2ddc-450c-befc-2a0fcf85233c",
    "outputId": "9c37cade-1d37-4f59-d1ca-754c72d40fbd"
   },
   "outputs": [
    {
     "data": {
      "text/html": [
       "<div>\n",
       "<style scoped>\n",
       "    .dataframe tbody tr th:only-of-type {\n",
       "        vertical-align: middle;\n",
       "    }\n",
       "\n",
       "    .dataframe tbody tr th {\n",
       "        vertical-align: top;\n",
       "    }\n",
       "\n",
       "    .dataframe thead th {\n",
       "        text-align: right;\n",
       "    }\n",
       "</style>\n",
       "<table border=\"1\" class=\"dataframe\">\n",
       "  <thead>\n",
       "    <tr style=\"text-align: right;\">\n",
       "      <th></th>\n",
       "      <th>Loyality_level</th>\n",
       "      <th>Recency</th>\n",
       "      <th>Frequency</th>\n",
       "      <th>Monetory</th>\n",
       "      <th>CustomerID</th>\n",
       "    </tr>\n",
       "  </thead>\n",
       "  <tbody>\n",
       "    <tr>\n",
       "      <th>0</th>\n",
       "      <td>Platinum</td>\n",
       "      <td>25988</td>\n",
       "      <td>295781</td>\n",
       "      <td>764912338.0</td>\n",
       "      <td>1281</td>\n",
       "    </tr>\n",
       "    <tr>\n",
       "      <th>1</th>\n",
       "      <td>Gold</td>\n",
       "      <td>84082</td>\n",
       "      <td>76027</td>\n",
       "      <td>166230918.0</td>\n",
       "      <td>1313</td>\n",
       "    </tr>\n",
       "    <tr>\n",
       "      <th>2</th>\n",
       "      <td>Silver</td>\n",
       "      <td>121757</td>\n",
       "      <td>23778</td>\n",
       "      <td>50300946.1</td>\n",
       "      <td>965</td>\n",
       "    </tr>\n",
       "    <tr>\n",
       "      <th>3</th>\n",
       "      <td>Bronze</td>\n",
       "      <td>173932</td>\n",
       "      <td>8595</td>\n",
       "      <td>18556145.0</td>\n",
       "      <td>790</td>\n",
       "    </tr>\n",
       "  </tbody>\n",
       "</table>\n",
       "</div>"
      ],
      "text/plain": [
       "  Loyality_level  Recency  Frequency     Monetory  CustomerID\n",
       "0       Platinum    25988     295781  764912338.0        1281\n",
       "1           Gold    84082      76027  166230918.0        1313\n",
       "2         Silver   121757      23778   50300946.1         965\n",
       "3         Bronze   173932       8595   18556145.0         790"
      ]
     },
     "execution_count": 98,
     "metadata": {},
     "output_type": "execute_result"
    }
   ],
   "source": [
    "final_report"
   ]
  },
  {
   "cell_type": "code",
   "execution_count": null,
   "id": "0023591a-2267-43c9-8c10-50b3389e0dd7",
   "metadata": {
    "id": "0023591a-2267-43c9-8c10-50b3389e0dd7"
   },
   "outputs": [],
   "source": [
    "final_report = final_report.rename(columns= {'CustomerID': 'NumBuyers'})"
   ]
  },
  {
   "cell_type": "code",
   "execution_count": null,
   "id": "b74dd1e5-c8cd-4204-81ca-54f9f717f62b",
   "metadata": {
    "id": "b74dd1e5-c8cd-4204-81ca-54f9f717f62b",
    "outputId": "0be908d4-7f3b-4889-8f8a-44469ba7f6ef"
   },
   "outputs": [
    {
     "data": {
      "text/html": [
       "<div>\n",
       "<style scoped>\n",
       "    .dataframe tbody tr th:only-of-type {\n",
       "        vertical-align: middle;\n",
       "    }\n",
       "\n",
       "    .dataframe tbody tr th {\n",
       "        vertical-align: top;\n",
       "    }\n",
       "\n",
       "    .dataframe thead th {\n",
       "        text-align: right;\n",
       "    }\n",
       "</style>\n",
       "<table border=\"1\" class=\"dataframe\">\n",
       "  <thead>\n",
       "    <tr style=\"text-align: right;\">\n",
       "      <th></th>\n",
       "      <th>Loyality_level</th>\n",
       "      <th>Recency</th>\n",
       "      <th>Frequency</th>\n",
       "      <th>Monetory</th>\n",
       "      <th>NumBuyers</th>\n",
       "    </tr>\n",
       "  </thead>\n",
       "  <tbody>\n",
       "    <tr>\n",
       "      <th>0</th>\n",
       "      <td>Platinum</td>\n",
       "      <td>25988</td>\n",
       "      <td>295781</td>\n",
       "      <td>764912338.0</td>\n",
       "      <td>1281</td>\n",
       "    </tr>\n",
       "    <tr>\n",
       "      <th>1</th>\n",
       "      <td>Gold</td>\n",
       "      <td>84082</td>\n",
       "      <td>76027</td>\n",
       "      <td>166230918.0</td>\n",
       "      <td>1313</td>\n",
       "    </tr>\n",
       "    <tr>\n",
       "      <th>2</th>\n",
       "      <td>Silver</td>\n",
       "      <td>121757</td>\n",
       "      <td>23778</td>\n",
       "      <td>50300946.1</td>\n",
       "      <td>965</td>\n",
       "    </tr>\n",
       "    <tr>\n",
       "      <th>3</th>\n",
       "      <td>Bronze</td>\n",
       "      <td>173932</td>\n",
       "      <td>8595</td>\n",
       "      <td>18556145.0</td>\n",
       "      <td>790</td>\n",
       "    </tr>\n",
       "  </tbody>\n",
       "</table>\n",
       "</div>"
      ],
      "text/plain": [
       "  Loyality_level  Recency  Frequency     Monetory  NumBuyers\n",
       "0       Platinum    25988     295781  764912338.0       1281\n",
       "1           Gold    84082      76027  166230918.0       1313\n",
       "2         Silver   121757      23778   50300946.1        965\n",
       "3         Bronze   173932       8595   18556145.0        790"
      ]
     },
     "execution_count": 104,
     "metadata": {},
     "output_type": "execute_result"
    }
   ],
   "source": [
    "final_report"
   ]
  },
  {
   "cell_type": "code",
   "execution_count": null,
   "id": "b1286da2-b2ef-42e3-82b7-bb3fce823529",
   "metadata": {
    "id": "b1286da2-b2ef-42e3-82b7-bb3fce823529"
   },
   "outputs": [],
   "source": [
    "final_report['Percent'] = round(final_report['NumBuyers']/final_report.NumBuyers.sum()*100,2)"
   ]
  },
  {
   "cell_type": "code",
   "execution_count": null,
   "id": "49c19790-538f-4d64-9fdf-84bfaab193d1",
   "metadata": {
    "id": "49c19790-538f-4d64-9fdf-84bfaab193d1",
    "outputId": "7d591896-2bbd-4cde-f358-fe81e6caf542"
   },
   "outputs": [
    {
     "data": {
      "text/html": [
       "<div>\n",
       "<style scoped>\n",
       "    .dataframe tbody tr th:only-of-type {\n",
       "        vertical-align: middle;\n",
       "    }\n",
       "\n",
       "    .dataframe tbody tr th {\n",
       "        vertical-align: top;\n",
       "    }\n",
       "\n",
       "    .dataframe thead th {\n",
       "        text-align: right;\n",
       "    }\n",
       "</style>\n",
       "<table border=\"1\" class=\"dataframe\">\n",
       "  <thead>\n",
       "    <tr style=\"text-align: right;\">\n",
       "      <th></th>\n",
       "      <th>Loyality_level</th>\n",
       "      <th>Recency</th>\n",
       "      <th>Frequency</th>\n",
       "      <th>Monetory</th>\n",
       "      <th>NumBuyers</th>\n",
       "      <th>Percent</th>\n",
       "    </tr>\n",
       "  </thead>\n",
       "  <tbody>\n",
       "    <tr>\n",
       "      <th>0</th>\n",
       "      <td>Platinum</td>\n",
       "      <td>25988</td>\n",
       "      <td>295781</td>\n",
       "      <td>764912338.0</td>\n",
       "      <td>1281</td>\n",
       "      <td>29.46</td>\n",
       "    </tr>\n",
       "    <tr>\n",
       "      <th>1</th>\n",
       "      <td>Gold</td>\n",
       "      <td>84082</td>\n",
       "      <td>76027</td>\n",
       "      <td>166230918.0</td>\n",
       "      <td>1313</td>\n",
       "      <td>30.19</td>\n",
       "    </tr>\n",
       "    <tr>\n",
       "      <th>2</th>\n",
       "      <td>Silver</td>\n",
       "      <td>121757</td>\n",
       "      <td>23778</td>\n",
       "      <td>50300946.1</td>\n",
       "      <td>965</td>\n",
       "      <td>22.19</td>\n",
       "    </tr>\n",
       "    <tr>\n",
       "      <th>3</th>\n",
       "      <td>Bronze</td>\n",
       "      <td>173932</td>\n",
       "      <td>8595</td>\n",
       "      <td>18556145.0</td>\n",
       "      <td>790</td>\n",
       "      <td>18.17</td>\n",
       "    </tr>\n",
       "  </tbody>\n",
       "</table>\n",
       "</div>"
      ],
      "text/plain": [
       "  Loyality_level  Recency  Frequency     Monetory  NumBuyers  Percent\n",
       "0       Platinum    25988     295781  764912338.0       1281    29.46\n",
       "1           Gold    84082      76027  166230918.0       1313    30.19\n",
       "2         Silver   121757      23778   50300946.1        965    22.19\n",
       "3         Bronze   173932       8595   18556145.0        790    18.17"
      ]
     },
     "execution_count": 108,
     "metadata": {},
     "output_type": "execute_result"
    }
   ],
   "source": [
    "final_report"
   ]
  },
  {
   "cell_type": "code",
   "execution_count": null,
   "id": "0fc28710-c842-4623-9bff-007f4419d1f9",
   "metadata": {
    "id": "0fc28710-c842-4623-9bff-007f4419d1f9",
    "outputId": "2ab9f9d6-aa76-4a24-f272-2dc03c431b87"
   },
   "outputs": [
    {
     "data": {
      "text/plain": [
       "Index(['Loyality_level', 'Recency', 'Frequency', 'Monetory', 'NumBuyers',\n",
       "       'Percent'],\n",
       "      dtype='object')"
      ]
     },
     "execution_count": 110,
     "metadata": {},
     "output_type": "execute_result"
    }
   ],
   "source": [
    "final_report.columns"
   ]
  },
  {
   "cell_type": "code",
   "execution_count": null,
   "id": "33be192d-1607-4a21-82a2-541a93e4bb9a",
   "metadata": {
    "id": "33be192d-1607-4a21-82a2-541a93e4bb9a",
    "outputId": "166d6fce-c6ca-40ca-aae3-f03101e0d93b"
   },
   "outputs": [
    {
     "data": {
      "text/html": [
       "<div>\n",
       "<style scoped>\n",
       "    .dataframe tbody tr th:only-of-type {\n",
       "        vertical-align: middle;\n",
       "    }\n",
       "\n",
       "    .dataframe tbody tr th {\n",
       "        vertical-align: top;\n",
       "    }\n",
       "\n",
       "    .dataframe thead th {\n",
       "        text-align: right;\n",
       "    }\n",
       "</style>\n",
       "<table border=\"1\" class=\"dataframe\">\n",
       "  <thead>\n",
       "    <tr style=\"text-align: right;\">\n",
       "      <th></th>\n",
       "      <th>Loyality_level</th>\n",
       "      <th>NumBuyers</th>\n",
       "      <th>Percent</th>\n",
       "    </tr>\n",
       "  </thead>\n",
       "  <tbody>\n",
       "    <tr>\n",
       "      <th>0</th>\n",
       "      <td>Platinum</td>\n",
       "      <td>1281</td>\n",
       "      <td>29.46</td>\n",
       "    </tr>\n",
       "    <tr>\n",
       "      <th>1</th>\n",
       "      <td>Gold</td>\n",
       "      <td>1313</td>\n",
       "      <td>30.19</td>\n",
       "    </tr>\n",
       "    <tr>\n",
       "      <th>2</th>\n",
       "      <td>Silver</td>\n",
       "      <td>965</td>\n",
       "      <td>22.19</td>\n",
       "    </tr>\n",
       "    <tr>\n",
       "      <th>3</th>\n",
       "      <td>Bronze</td>\n",
       "      <td>790</td>\n",
       "      <td>18.17</td>\n",
       "    </tr>\n",
       "  </tbody>\n",
       "</table>\n",
       "</div>"
      ],
      "text/plain": [
       "  Loyality_level  NumBuyers  Percent\n",
       "0       Platinum       1281    29.46\n",
       "1           Gold       1313    30.19\n",
       "2         Silver        965    22.19\n",
       "3         Bronze        790    18.17"
      ]
     },
     "execution_count": 112,
     "metadata": {},
     "output_type": "execute_result"
    }
   ],
   "source": [
    "final_report1 = final_report[['Loyality_level', 'NumBuyers','Percent']]\n",
    "final_report1"
   ]
  },
  {
   "cell_type": "markdown",
   "id": "216e26f8-b513-49a8-9c2f-f498d6f6d4bd",
   "metadata": {
    "id": "216e26f8-b513-49a8-9c2f-f498d6f6d4bd"
   },
   "source": [
    "# Visualization"
   ]
  },
  {
   "cell_type": "code",
   "execution_count": null,
   "id": "a15be174-628e-44b2-8822-d477777a64c8",
   "metadata": {
    "id": "a15be174-628e-44b2-8822-d477777a64c8"
   },
   "outputs": [],
   "source": [
    "import squarify"
   ]
  },
  {
   "cell_type": "code",
   "execution_count": null,
   "id": "96a28894-7f8a-4044-92b3-d4ff9465ebad",
   "metadata": {
    "id": "96a28894-7f8a-4044-92b3-d4ff9465ebad",
    "outputId": "179e922f-23af-4515-f11c-f7022d51face"
   },
   "outputs": [
    {
     "data": {
      "image/png": "[encoded data removed]",
      "text/plain": [
       "<Figure size 1500x1200 with 1 Axes>"
      ]
     },
     "metadata": {},
     "output_type": "display_data"
    }
   ],
   "source": [
    "fig = plt.gcf()\n",
    "ax = fig.add_subplot()\n",
    "fig.set_size_inches(15,12)\n",
    "\n",
    "colors_dics = {'Platinum':'red', 'Gold':'yellow', 'silver':'gray', 'bronze':'blue'}\n",
    "\n",
    "squarify.plot(sizes=final_report1['NumBuyers'],color = colors_dics.values(),\n",
    "              label = ['{} \\n{:0.0f} customers \\n{}%'.format(*final_report1.iloc[i])\n",
    "                       for i in range(0, len(final_report1))], alpha=0.6)\n",
    "\n",
    "plt.title(\"Customer Segmentation Basis Loyality_level\", fontsize=25, fontweight=\"bold\")\n",
    "plt.axis(\"off\")\n",
    "plt.show()"
   ]
  },
  {
   "cell_type": "markdown",
   "id": "e7c02a49-ac72-43b3-b088-bdd7807ebfd1",
   "metadata": {},
   "source": [
    "### Insights\n",
    "- Visualize clusters to interpret customer groups.\n",
    "- Use segmentation results to inform marketing strategies."
   ]
  },
  {
   "cell_type": "markdown",
   "id": "43b85065-c5af-46b3-b2a2-d1e380c8b974",
   "metadata": {
    "id": "43b85065-c5af-46b3-b2a2-d1e380c8b974"
   },
   "source": [
    "# kmeans cluster"
   ]
  },
  {
   "cell_type": "markdown",
   "id": "8d04c52e-d1aa-45c3-ab88-092990a1318d",
   "metadata": {},
   "source": [
    "### Clustering Using K-Means\n",
    "1. Normalize RFM metrics.\n",
    "2. Use K-Means to identify customer segments."
   ]
  },
  {
   "cell_type": "code",
   "execution_count": null,
   "id": "6250b099-ee8c-40d4-822e-e30e10a750a1",
   "metadata": {
    "id": "6250b099-ee8c-40d4-822e-e30e10a750a1"
   },
   "outputs": [],
   "source": [
    "from sklearn.cluster import KMeans"
   ]
  },
  {
   "cell_type": "code",
   "execution_count": null,
   "id": "87c5be65-de93-4aa8-b0d3-d01bf437c890",
   "metadata": {
    "id": "87c5be65-de93-4aa8-b0d3-d01bf437c890",
    "outputId": "2c92393f-4cbb-4122-9ae2-e23ed4bfe89c"
   },
   "outputs": [
    {
     "data": {
      "text/html": [
       "<div>\n",
       "<style scoped>\n",
       "    .dataframe tbody tr th:only-of-type {\n",
       "        vertical-align: middle;\n",
       "    }\n",
       "\n",
       "    .dataframe tbody tr th {\n",
       "        vertical-align: top;\n",
       "    }\n",
       "\n",
       "    .dataframe thead th {\n",
       "        text-align: right;\n",
       "    }\n",
       "</style>\n",
       "<table border=\"1\" class=\"dataframe\">\n",
       "  <thead>\n",
       "    <tr style=\"text-align: right;\">\n",
       "      <th></th>\n",
       "      <th>CustomerID</th>\n",
       "      <th>Recency</th>\n",
       "      <th>Frequency</th>\n",
       "      <th>Monetory</th>\n",
       "      <th>R</th>\n",
       "      <th>F</th>\n",
       "      <th>M</th>\n",
       "      <th>RFM</th>\n",
       "      <th>Loyality_level</th>\n",
       "    </tr>\n",
       "  </thead>\n",
       "  <tbody>\n",
       "    <tr>\n",
       "      <th>0</th>\n",
       "      <td>2.0</td>\n",
       "      <td>4</td>\n",
       "      <td>182</td>\n",
       "      <td>553704.0</td>\n",
       "      <td>1</td>\n",
       "      <td>1</td>\n",
       "      <td>1</td>\n",
       "      <td>3</td>\n",
       "      <td>Platinum</td>\n",
       "    </tr>\n",
       "    <tr>\n",
       "      <th>1</th>\n",
       "      <td>3.0</td>\n",
       "      <td>77</td>\n",
       "      <td>27</td>\n",
       "      <td>257404.0</td>\n",
       "      <td>3</td>\n",
       "      <td>3</td>\n",
       "      <td>1</td>\n",
       "      <td>7</td>\n",
       "      <td>Gold</td>\n",
       "    </tr>\n",
       "    <tr>\n",
       "      <th>2</th>\n",
       "      <td>4.0</td>\n",
       "      <td>19</td>\n",
       "      <td>72</td>\n",
       "      <td>176613.0</td>\n",
       "      <td>2</td>\n",
       "      <td>2</td>\n",
       "      <td>2</td>\n",
       "      <td>6</td>\n",
       "      <td>Gold</td>\n",
       "    </tr>\n",
       "    <tr>\n",
       "      <th>3</th>\n",
       "      <td>5.0</td>\n",
       "      <td>311</td>\n",
       "      <td>16</td>\n",
       "      <td>41976.0</td>\n",
       "      <td>4</td>\n",
       "      <td>4</td>\n",
       "      <td>3</td>\n",
       "      <td>11</td>\n",
       "      <td>Bronze</td>\n",
       "    </tr>\n",
       "    <tr>\n",
       "      <th>4</th>\n",
       "      <td>6.0</td>\n",
       "      <td>37</td>\n",
       "      <td>84</td>\n",
       "      <td>151822.0</td>\n",
       "      <td>2</td>\n",
       "      <td>2</td>\n",
       "      <td>2</td>\n",
       "      <td>6</td>\n",
       "      <td>Gold</td>\n",
       "    </tr>\n",
       "  </tbody>\n",
       "</table>\n",
       "</div>"
      ],
      "text/plain": [
       "   CustomerID  Recency  Frequency  Monetory  R  F  M  RFM Loyality_level\n",
       "0         2.0        4        182  553704.0  1  1  1    3       Platinum\n",
       "1         3.0       77         27  257404.0  3  3  1    7           Gold\n",
       "2         4.0       19         72  176613.0  2  2  2    6           Gold\n",
       "3         5.0      311         16   41976.0  4  4  3   11         Bronze\n",
       "4         6.0       37         84  151822.0  2  2  2    6           Gold"
      ]
     },
     "execution_count": 134,
     "metadata": {},
     "output_type": "execute_result"
    }
   ],
   "source": [
    "RMFApproach.head()"
   ]
  },
  {
   "cell_type": "code",
   "execution_count": null,
   "id": "c1f7c7ec-7a9d-4b53-8733-1744ec535eae",
   "metadata": {
    "id": "c1f7c7ec-7a9d-4b53-8733-1744ec535eae",
    "outputId": "4ed30cb7-7344-42b4-b3f5-bf509ebcbd60"
   },
   "outputs": [
    {
     "data": {
      "text/plain": [
       "Index(['CustomerID', 'Recency', 'Frequency', 'Monetory', 'R', 'F', 'M', 'RFM',\n",
       "       'Loyality_level'],\n",
       "      dtype='object')"
      ]
     },
     "execution_count": 136,
     "metadata": {},
     "output_type": "execute_result"
    }
   ],
   "source": [
    "RMFApproach.columns"
   ]
  },
  {
   "cell_type": "code",
   "execution_count": null,
   "id": "55c9eb20-635b-490e-9395-0abd01a53aa2",
   "metadata": {
    "id": "55c9eb20-635b-490e-9395-0abd01a53aa2",
    "outputId": "9a0375fe-16ca-4b99-b833-046e132c2e02"
   },
   "outputs": [
    {
     "data": {
      "text/html": [
       "<div>\n",
       "<style scoped>\n",
       "    .dataframe tbody tr th:only-of-type {\n",
       "        vertical-align: middle;\n",
       "    }\n",
       "\n",
       "    .dataframe tbody tr th {\n",
       "        vertical-align: top;\n",
       "    }\n",
       "\n",
       "    .dataframe thead th {\n",
       "        text-align: right;\n",
       "    }\n",
       "</style>\n",
       "<table border=\"1\" class=\"dataframe\">\n",
       "  <thead>\n",
       "    <tr style=\"text-align: right;\">\n",
       "      <th></th>\n",
       "      <th>Recency</th>\n",
       "      <th>Frequency</th>\n",
       "      <th>Monetory</th>\n",
       "    </tr>\n",
       "  </thead>\n",
       "  <tbody>\n",
       "    <tr>\n",
       "      <th>0</th>\n",
       "      <td>4</td>\n",
       "      <td>182</td>\n",
       "      <td>553704.0</td>\n",
       "    </tr>\n",
       "    <tr>\n",
       "      <th>1</th>\n",
       "      <td>77</td>\n",
       "      <td>27</td>\n",
       "      <td>257404.0</td>\n",
       "    </tr>\n",
       "    <tr>\n",
       "      <th>2</th>\n",
       "      <td>19</td>\n",
       "      <td>72</td>\n",
       "      <td>176613.0</td>\n",
       "    </tr>\n",
       "    <tr>\n",
       "      <th>3</th>\n",
       "      <td>311</td>\n",
       "      <td>16</td>\n",
       "      <td>41976.0</td>\n",
       "    </tr>\n",
       "    <tr>\n",
       "      <th>4</th>\n",
       "      <td>37</td>\n",
       "      <td>84</td>\n",
       "      <td>151822.0</td>\n",
       "    </tr>\n",
       "    <tr>\n",
       "      <th>...</th>\n",
       "      <td>...</td>\n",
       "      <td>...</td>\n",
       "      <td>...</td>\n",
       "    </tr>\n",
       "    <tr>\n",
       "      <th>4344</th>\n",
       "      <td>278</td>\n",
       "      <td>10</td>\n",
       "      <td>20480.0</td>\n",
       "    </tr>\n",
       "    <tr>\n",
       "      <th>4345</th>\n",
       "      <td>181</td>\n",
       "      <td>7</td>\n",
       "      <td>10774.0</td>\n",
       "    </tr>\n",
       "    <tr>\n",
       "      <th>4346</th>\n",
       "      <td>9</td>\n",
       "      <td>13</td>\n",
       "      <td>24962.0</td>\n",
       "    </tr>\n",
       "    <tr>\n",
       "      <th>4347</th>\n",
       "      <td>4</td>\n",
       "      <td>754</td>\n",
       "      <td>280608.0</td>\n",
       "    </tr>\n",
       "    <tr>\n",
       "      <th>4348</th>\n",
       "      <td>44</td>\n",
       "      <td>70</td>\n",
       "      <td>262820.0</td>\n",
       "    </tr>\n",
       "  </tbody>\n",
       "</table>\n",
       "<p>4349 rows × 3 columns</p>\n",
       "</div>"
      ],
      "text/plain": [
       "      Recency  Frequency  Monetory\n",
       "0           4        182  553704.0\n",
       "1          77         27  257404.0\n",
       "2          19         72  176613.0\n",
       "3         311         16   41976.0\n",
       "4          37         84  151822.0\n",
       "...       ...        ...       ...\n",
       "4344      278         10   20480.0\n",
       "4345      181          7   10774.0\n",
       "4346        9         13   24962.0\n",
       "4347        4        754  280608.0\n",
       "4348       44         70  262820.0\n",
       "\n",
       "[4349 rows x 3 columns]"
      ]
     },
     "execution_count": 138,
     "metadata": {},
     "output_type": "execute_result"
    }
   ],
   "source": [
    "x = RMFApproach[['Recency', 'Frequency', 'Monetory']]\n",
    "x"
   ]
  },
  {
   "cell_type": "code",
   "execution_count": null,
   "id": "6540ecb8-967d-4728-989e-422938ce06c6",
   "metadata": {
    "id": "6540ecb8-967d-4728-989e-422938ce06c6",
    "outputId": "ff5af10c-aba6-43e5-de24-dcaded7cfe45"
   },
   "outputs": [
    {
     "name": "stdout",
     "output_type": "stream",
     "text": [
      "labels : [0 0 0 ... 0 0 0]\n",
      "\n",
      "centroids : [[9.43828598e+01 8.20496041e+01 1.66799945e+05]\n",
      " [6.72727273e+00 1.49918182e+03 1.05443873e+07]\n",
      " [9.34883721e+00 7.74790698e+02 3.07527742e+06]\n",
      " [3.00000000e+00 2.05300000e+03 3.55361940e+07]]\n"
     ]
    }
   ],
   "source": [
    "kmeans = KMeans(n_clusters=4, random_state=42)\n",
    "kmeans.fit(x)\n",
    "labels = kmeans.labels_\n",
    "centroids = kmeans.cluster_centers_\n",
    "print(\"labels :\", labels)\n",
    "print()\n",
    "print(\"centroids :\", centroids)"
   ]
  },
  {
   "cell_type": "code",
   "execution_count": null,
   "id": "19c986db-ea14-48f0-b05a-12e01a87ff3d",
   "metadata": {
    "id": "19c986db-ea14-48f0-b05a-12e01a87ff3d",
    "outputId": "d7a77f4f-e7ed-4451-a54b-ac39828f8d50"
   },
   "outputs": [
    {
     "data": {
      "text/plain": [
       "0    4294\n",
       "2      43\n",
       "1      11\n",
       "3       1\n",
       "Name: count, dtype: int64"
      ]
     },
     "execution_count": 144,
     "metadata": {},
     "output_type": "execute_result"
    }
   ],
   "source": [
    "pd.DataFrame(labels).value_counts()"
   ]
  },
  {
   "cell_type": "code",
   "execution_count": null,
   "id": "4ead49f8-1ca2-4aab-9219-d3a3cd55fd8b",
   "metadata": {
    "id": "4ead49f8-1ca2-4aab-9219-d3a3cd55fd8b"
   },
   "outputs": [],
   "source": []
  }
 ],
 "metadata": {
  "colab": {
   "provenance": []
  },
  "kernelspec": {
   "display_name": "Python 3 (ipykernel)",
   "language": "python",
   "name": "python3"
  },
  "language_info": {
   "codemirror_mode": {
    "name": "ipython",
    "version": 3
   },
   "file_extension": ".py",
   "mimetype": "text/x-python",
   "name": "python",
   "nbconvert_exporter": "python",
   "pygments_lexer": "ipython3",
   "version": "3.12.4"
  }
 },
 "nbformat": 4,
 "nbformat_minor": 5
}
